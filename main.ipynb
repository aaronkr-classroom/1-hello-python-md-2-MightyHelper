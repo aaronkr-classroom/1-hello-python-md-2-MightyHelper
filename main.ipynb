{
 "cells": [
  {
   "cell_type": "code",
   "execution_count": null,
   "id": "c8d4671a-75f5-4364-9ef7-cf8e023c9358",
   "metadata": {},
   "outputs": [],
   "source": [
    "base = \"zffba(==u{fzgp<q}=_{uzfkZw~bw`={|fw`sqf{dw?a}`f\""
   ]
  },
  {
   "cell_type": "code",
   "execution_count": null,
   "id": "87e2f6fd-a323-4953-b150-a12b95066661",
   "metadata": {},
   "outputs": [],
   "source": [
    "key = 0x12\n",
    "max_val = 0xff # ord('Z')\n",
    "min_val = 0x00 # ord('A')\n",
    "min_val, max_val"
   ]
  },
  {
   "cell_type": "code",
   "execution_count": null,
   "id": "4fa7a9ae-b2a1-443d-bcc3-7e11d35c6a65",
   "metadata": {},
   "outputs": [],
   "source": [
    "compute_ct = lambda ch: ch ^ key \n",
    "map_ct = lambda ct: (compute_ct(ord(ct) - min_val) % (max_val - min_val)) + min_val\n",
    "encrypt = lambda pt: chr(map_ct(pt))\n",
    "for pt in base:\n",
    "    print(encrypt(pt), end='')"
   ]
  },
  {
   "cell_type": "code",
   "execution_count": null,
   "id": "26ddfca9-6114-4ec8-92f2-2c9956bdd237",
   "metadata": {},
   "outputs": [],
   "source": [
    "# Only two codes... Not very secure...\n",
    "for pt in base:\n",
    "    print(encrypt(encrypt(pt)), end='')\n",
    "print()\n",
    "print(base)"
   ]
  }
 ],
 "metadata": {
  "kernelspec": {
   "display_name": "Python 3 (ipykernel)",
   "language": "python",
   "name": "python3"
  },
  "language_info": {
   "codemirror_mode": {
    "name": "ipython",
    "version": 3
   },
   "file_extension": ".py",
   "mimetype": "text/x-python",
   "name": "python",
   "nbconvert_exporter": "python",
   "pygments_lexer": "ipython3",
   "version": "3.11.5"
  }
 },
 "nbformat": 4,
 "nbformat_minor": 5
}
